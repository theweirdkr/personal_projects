{
 "cells": [
  {
   "cell_type": "code",
   "execution_count": 90,
   "metadata": {},
   "outputs": [
    {
     "name": "stdout",
     "output_type": "stream",
     "text": [
      "You have 10 wrong guesses left.\n",
      "_ _ _\n",
      "You have 10 wrong guesses left.\n",
      "b _ _\n",
      "You have 10 wrong guesses left.\n",
      "b y _\n",
      "Congratulations! You guessed the word: bye\n"
     ]
    }
   ],
   "source": [
    "import random\n",
    "\n",
    "def main():\n",
    "  bag_of_words = []\n",
    "  while True:\n",
    "    input_words = input('input words, to stop type 0')\n",
    "    if input_words != '0':\n",
    "            bag_of_words.append(input_words)\n",
    "    else:\n",
    "        break\n",
    "  word = random.choice(bag_of_words)\n",
    "  wrong_guesses = []\n",
    "  guesses = [\"_\" for _ in word]  \n",
    "  tries = int(input('how many tries'))\n",
    "\n",
    "  while tries > 0 and \"_\" in guesses:\n",
    "    print(\"You have\", tries, \"wrong guesses left.\")\n",
    "    print(\" \".join(guesses))\n",
    "    guess = input(\"Guess a letter: \").lower()\n",
    "\n",
    "    if len(guess) != 1 or not guess.isalpha():\n",
    "      print(\"Invalid input. Please enter a single letter.\")\n",
    "      continue\n",
    "\n",
    "    if guess in wrong_guesses:\n",
    "      print(\"You already guessed that letter.\")\n",
    "      continue\n",
    "\n",
    "    if guess in word:\n",
    "      for i in range(len(word)):\n",
    "        if word[i] == guess:\n",
    "          guesses[i] = guess\n",
    "    else:\n",
    "      wrong_guesses.append(guess)\n",
    "      tries -= 1\n",
    "\n",
    "  if \"_\" not in guesses:\n",
    "    print(\"Congratulations! You guessed the word:\", word)\n",
    "  else:\n",
    "    print(\"Sorry, you ran out of tries. The word was:\", word)\n",
    "\n",
    "if __name__ == \"__main__\":\n",
    "  main()"
   ]
  }
 ],
 "metadata": {
  "kernelspec": {
   "display_name": "testing",
   "language": "python",
   "name": "python3"
  },
  "language_info": {
   "codemirror_mode": {
    "name": "ipython",
    "version": 3
   },
   "file_extension": ".py",
   "mimetype": "text/x-python",
   "name": "python",
   "nbconvert_exporter": "python",
   "pygments_lexer": "ipython3",
   "version": "3.11.5"
  }
 },
 "nbformat": 4,
 "nbformat_minor": 2
}
