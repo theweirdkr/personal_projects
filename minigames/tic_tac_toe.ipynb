{
 "cells": [
  {
   "cell_type": "code",
   "execution_count": 5,
   "metadata": {},
   "outputs": [],
   "source": [
    "import numpy as np"
   ]
  },
  {
   "cell_type": "code",
   "execution_count": 12,
   "metadata": {},
   "outputs": [],
   "source": [
    "board = np.arange(9).reshape(3,3)\n",
    "board[:][:] = 0\n",
    "player_list =[1,2]"
   ]
  },
  {
   "cell_type": "code",
   "execution_count": 13,
   "metadata": {},
   "outputs": [],
   "source": [
    "def check_win(board, player):\n",
    "\n",
    "    # Check rows\n",
    "    for row in range(3):\n",
    "        if all(board[row][col] == player for col in range(3)):\n",
    "            return True\n",
    "\n",
    "    # Check columns\n",
    "    for col in range(3):\n",
    "        if all(board[row][col] == player for row in range(3)):\n",
    "            return True\n",
    "\n",
    "    # Check diagonals (optional)\n",
    "    if player == board[0][0] == board[1][1] == board[2][2]:\n",
    "        return True\n",
    "    if player == board[0][2] == board[1][1] == board[2][0]:\n",
    "        return True\n",
    "\n",
    "    return False"
   ]
  },
  {
   "cell_type": "code",
   "execution_count": 14,
   "metadata": {},
   "outputs": [],
   "source": [
    "def main():\n",
    "    a = 1\n",
    "\n",
    "    while True:\n",
    "        current_player = player_list[(a-1)%2]\n",
    "\n",
    "        row = int(input(f'player {current_player}, enter row 1~3'))-1\n",
    "        column = int(input(f'player {current_player}, enter column 1~3'))-1\n",
    "        \n",
    "        while board[row][column] !=0:\n",
    "            print('invalid move. choose a different space')\n",
    "            row = int(input(f'player {current_player}, enter row 1~3'))-1\n",
    "            column = int(input(f'player {current_player}, enter column 1~3'))-1\n",
    "        \n",
    "        board[row][column] = current_player\n",
    "        print(board)\n",
    "\n",
    "        if check_win(board, current_player):\n",
    "            print(f'player{current_player} wins!')\n",
    "            break\n",
    "\n",
    "        if all(cell !=0 for row in board for cell in row):\n",
    "            print(\"it's a tie!\")\n",
    "            break\n",
    "\n",
    "        a+=1"
   ]
  },
  {
   "cell_type": "code",
   "execution_count": 15,
   "metadata": {},
   "outputs": [
    {
     "name": "stdout",
     "output_type": "stream",
     "text": [
      "[[1 0 0]\n",
      " [0 0 0]\n",
      " [0 0 0]]\n",
      "[[1 0 0]\n",
      " [0 2 0]\n",
      " [0 0 0]]\n",
      "[[1 0 0]\n",
      " [0 2 0]\n",
      " [0 0 1]]\n",
      "[[1 2 0]\n",
      " [0 2 0]\n",
      " [0 0 1]]\n",
      "[[1 2 0]\n",
      " [0 2 0]\n",
      " [0 1 1]]\n",
      "[[1 2 0]\n",
      " [0 2 0]\n",
      " [2 1 1]]\n",
      "[[1 2 1]\n",
      " [0 2 0]\n",
      " [2 1 1]]\n",
      "[[1 2 1]\n",
      " [2 2 0]\n",
      " [2 1 1]]\n",
      "[[1 2 1]\n",
      " [2 2 1]\n",
      " [2 1 1]]\n",
      "player1 wins!\n"
     ]
    }
   ],
   "source": [
    "if __name__ == \"__main__\":\n",
    "    main()"
   ]
  }
 ],
 "metadata": {
  "kernelspec": {
   "display_name": "testing",
   "language": "python",
   "name": "python3"
  },
  "language_info": {
   "codemirror_mode": {
    "name": "ipython",
    "version": 3
   },
   "file_extension": ".py",
   "mimetype": "text/x-python",
   "name": "python",
   "nbconvert_exporter": "python",
   "pygments_lexer": "ipython3",
   "version": "3.11.5"
  }
 },
 "nbformat": 4,
 "nbformat_minor": 2
}
